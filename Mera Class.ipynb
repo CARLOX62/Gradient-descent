{
 "cells": [
  {
   "cell_type": "code",
   "execution_count": 1,
   "id": "15b97b76-fa61-448a-8048-fa26ef5fbfa9",
   "metadata": {},
   "outputs": [],
   "source": [
    "from sklearn.datasets import make_regression\n",
    "import matplotlib.pyplot as plt\n",
    "import numpy as np\n",
    "from sklearn.model_selection import cross_val_score"
   ]
  },
  {
   "cell_type": "code",
   "execution_count": 2,
   "id": "6038d970-f20f-4de7-b828-d687b68b077c",
   "metadata": {},
   "outputs": [],
   "source": [
    "X,y = make_regression(n_samples = 100, n_features = 1, n_informative = 1, n_targets = 1, noise = 20)"
   ]
  },
  {
   "cell_type": "code",
   "execution_count": 3,
   "id": "a57af3d4-c232-4c2e-a0c2-920e739a67cc",
   "metadata": {},
   "outputs": [
    {
     "data": {
      "text/plain": [
       "<matplotlib.collections.PathCollection at 0x1cc985f4980>"
      ]
     },
     "execution_count": 3,
     "metadata": {},
     "output_type": "execute_result"
    },
    {
     "data": {
      "image/png": "[encoded data removed]",
      "text/plain": [
       "<Figure size 640x480 with 1 Axes>"
      ]
     },
     "metadata": {},
     "output_type": "display_data"
    }
   ],
   "source": [
    "plt.scatter(X,y)"
   ]
  },
  {
   "cell_type": "code",
   "execution_count": 4,
   "id": "1d419eee-1be9-4bae-aff6-358832a1f59f",
   "metadata": {},
   "outputs": [],
   "source": [
    "from sklearn.model_selection import train_test_split\n",
    "X_train, X_test, y_train, y_test = train_test_split(X, y, test_size = 0.2, random_state = 2)"
   ]
  },
  {
   "cell_type": "code",
   "execution_count": 5,
   "id": "eb38db8d-ce28-4bff-b1f9-0e3647976632",
   "metadata": {},
   "outputs": [],
   "source": [
    "from sklearn.linear_model import LinearRegression"
   ]
  },
  {
   "cell_type": "code",
   "execution_count": 6,
   "id": "56e76284-9f10-414d-8c1e-ed24bb95dd51",
   "metadata": {},
   "outputs": [],
   "source": [
    "lr = LinearRegression()"
   ]
  },
  {
   "cell_type": "code",
   "execution_count": 7,
   "id": "179c48db-1304-4517-a358-532ce8b877d6",
   "metadata": {},
   "outputs": [
    {
     "name": "stdout",
     "output_type": "stream",
     "text": [
      "[46.36700006]\n",
      "-3.033705901096547\n"
     ]
    }
   ],
   "source": [
    "lr.fit(X_train,y_train)\n",
    "print(lr.coef_)\n",
    "print(lr.intercept_)"
   ]
  },
  {
   "cell_type": "code",
   "execution_count": 8,
   "id": "0281c677-abc9-482c-ae22-72b0e98e2740",
   "metadata": {},
   "outputs": [
    {
     "data": {
      "text/plain": [
       "0.9360057635914311"
      ]
     },
     "execution_count": 8,
     "metadata": {},
     "output_type": "execute_result"
    }
   ],
   "source": [
    "y_pred = lr.predict(X_test)\n",
    "from sklearn.metrics import r2_score\n",
    "r2_score(y_test, y_pred)"
   ]
  },
  {
   "cell_type": "code",
   "execution_count": 9,
   "id": "10124d50-c0ca-4fe1-b280-f8cf89578438",
   "metadata": {},
   "outputs": [
    {
     "data": {
      "text/plain": [
       "0.7118655957079703"
      ]
     },
     "execution_count": 9,
     "metadata": {},
     "output_type": "execute_result"
    }
   ],
   "source": [
    "np.mean(cross_val_score(lr, X, y, scoring = 'r2', cv = 10))"
   ]
  },
  {
   "cell_type": "code",
   "execution_count": 10,
   "id": "2a6ee82d-184c-4b7f-a06a-c5c17f1c048c",
   "metadata": {},
   "outputs": [],
   "source": [
    "m = 80.06"
   ]
  },
  {
   "cell_type": "code",
   "execution_count": 11,
   "id": "e9bd2884-c24f-423a-8fa8-3e89ffa2fcbb",
   "metadata": {},
   "outputs": [],
   "source": [
    "class GDregressor:\n",
    "\n",
    "    def __init__(self, learning_rate, epochs):\n",
    "        self.m = 100\n",
    "        self.b = -120\n",
    "        self.lr = learning_rate\n",
    "        self.epochs = epochs\n",
    "\n",
    "    def fit(self,X,y):\n",
    "         # Calculate the b using GD\n",
    "         for i in range(self.epochs):\n",
    "             loss_slope_b = -2 * np.sum(y - self.m * X.ravel() - self.b)\n",
    "             loss_slope_m = -2 * np.sum((y - self.m * X.ravel() - self.b) * X.ravel())\n",
    "\n",
    "             \n",
    "             self.b = self.b - (self.lr * loss_slope_b)\n",
    "             self.m = self.m - (self.lr * loss_slope_m)\n",
    "             \n",
    "         print(self.m, self.b)    \n",
    "\n",
    "    def predict(self,X):\n",
    "        return self.m * X + self.b"
   ]
  },
  {
   "cell_type": "code",
   "execution_count": 12,
   "id": "0b3a2252-7fb6-431e-93cc-eca3cb717c4f",
   "metadata": {},
   "outputs": [],
   "source": [
    "gd = GDregressor(0.001, 50)"
   ]
  },
  {
   "cell_type": "code",
   "execution_count": 13,
   "id": "d2c55046-e9cc-44ce-8c2e-9d0c7dd0e5b1",
   "metadata": {
    "scrolled": true
   },
   "outputs": [
    {
     "name": "stdout",
     "output_type": "stream",
     "text": [
      "46.355944937629964 -3.0537032149581043\n"
     ]
    }
   ],
   "source": [
    "gd.fit(X_train, y_train)"
   ]
  },
  {
   "cell_type": "code",
   "execution_count": 14,
   "id": "c8bede60-2883-4e04-a533-f9f5d00e3ce4",
   "metadata": {
    "scrolled": true
   },
   "outputs": [
    {
     "data": {
      "text/plain": [
       "array([[ -94.64569073],\n",
       "       [ -89.34100131],\n",
       "       [  -7.27390595],\n",
       "       [ -34.74399234],\n",
       "       [  38.82951825],\n",
       "       [  31.57362198],\n",
       "       [  11.72798105],\n",
       "       [ -67.20775334],\n",
       "       [  42.58015796],\n",
       "       [  58.74573171],\n",
       "       [  29.69289973],\n",
       "       [ -58.9232849 ],\n",
       "       [ 132.04881061],\n",
       "       [ -41.80973998],\n",
       "       [  84.94058716],\n",
       "       [   6.4918064 ],\n",
       "       [ -72.39222115],\n",
       "       [ -11.44456415],\n",
       "       [ -63.74981292],\n",
       "       [  48.98828594],\n",
       "       [  99.66480007],\n",
       "       [  15.66571129],\n",
       "       [-102.11022427],\n",
       "       [  12.82269076],\n",
       "       [  10.94176187],\n",
       "       [  -8.01114762],\n",
       "       [ -25.78977857],\n",
       "       [-115.63458614],\n",
       "       [   7.88973922],\n",
       "       [ -70.25330587],\n",
       "       [  19.66559044],\n",
       "       [ -46.58467307],\n",
       "       [ -38.16302203],\n",
       "       [ -50.51452218],\n",
       "       [ -32.44114438],\n",
       "       [ -55.71410213],\n",
       "       [ -62.10356808],\n",
       "       [  41.82129291],\n",
       "       [ -48.80761798],\n",
       "       [ -22.38441174],\n",
       "       [ -28.52335207],\n",
       "       [ -75.41079808],\n",
       "       [ -58.28685333],\n",
       "       [  18.16439137],\n",
       "       [ -82.69996472],\n",
       "       [   0.46705223],\n",
       "       [ -31.06687321],\n",
       "       [  27.46630012],\n",
       "       [ -48.73109472],\n",
       "       [ -29.67943426],\n",
       "       [  29.3655568 ],\n",
       "       [   9.69763429],\n",
       "       [  65.49295556],\n",
       "       [   1.54487175],\n",
       "       [ -70.85031321],\n",
       "       [  -9.86792893],\n",
       "       [ -31.18269368],\n",
       "       [  75.53153971],\n",
       "       [  -1.09095087],\n",
       "       [ -43.77864516],\n",
       "       [  26.81672195],\n",
       "       [   4.43903785],\n",
       "       [  17.02505259],\n",
       "       [ -13.13166995],\n",
       "       [  -9.37554899],\n",
       "       [   2.51233271],\n",
       "       [  41.92290936],\n",
       "       [ -10.6099786 ],\n",
       "       [ -34.65505028],\n",
       "       [  31.48131021],\n",
       "       [ -19.35916911],\n",
       "       [ -27.23264964],\n",
       "       [  41.55793624],\n",
       "       [ -51.82737075],\n",
       "       [  40.42404199],\n",
       "       [ -40.197803  ],\n",
       "       [  16.43676674],\n",
       "       [  42.66323018],\n",
       "       [ -60.46082524],\n",
       "       [ -27.44378193],\n",
       "       [ -55.47035517],\n",
       "       [  10.66608451],\n",
       "       [ -43.56701057],\n",
       "       [  30.46615666],\n",
       "       [ -50.12837788],\n",
       "       [   3.90472344],\n",
       "       [  27.28029858],\n",
       "       [ -16.54788424],\n",
       "       [   2.50298087],\n",
       "       [   5.29919065],\n",
       "       [  -9.6955837 ],\n",
       "       [  89.28590492],\n",
       "       [  36.77808379],\n",
       "       [ -16.33103033],\n",
       "       [   2.13960038],\n",
       "       [ -80.02349001],\n",
       "       [ -45.54273944],\n",
       "       [   2.71821279],\n",
       "       [  11.45021942],\n",
       "       [  -6.61287955]])"
      ]
     },
     "execution_count": 14,
     "metadata": {},
     "output_type": "execute_result"
    }
   ],
   "source": [
    "gd.predict(X)"
   ]
  },
  {
   "cell_type": "code",
   "execution_count": 15,
   "id": "4f3ededc-4581-426d-847e-8374120d6eda",
   "metadata": {},
   "outputs": [
    {
     "data": {
      "text/plain": [
       "0.9359706904984707"
      ]
     },
     "execution_count": 15,
     "metadata": {},
     "output_type": "execute_result"
    }
   ],
   "source": [
    "y_pred = gd.predict(X_test)\n",
    "from sklearn.metrics import r2_score\n",
    "r2_score(y_test, y_pred)"
   ]
  },
  {
   "cell_type": "code",
   "execution_count": null,
   "id": "d83943da-f85d-4398-8b1e-a0626d6292df",
   "metadata": {},
   "outputs": [],
   "source": []
  }
 ],
 "metadata": {
  "kernelspec": {
   "display_name": "Python 3 (ipykernel)",
   "language": "python",
   "name": "python3"
  },
  "language_info": {
   "codemirror_mode": {
    "name": "ipython",
    "version": 3
   },
   "file_extension": ".py",
   "mimetype": "text/x-python",
   "name": "python",
   "nbconvert_exporter": "python",
   "pygments_lexer": "ipython3",
   "version": "3.12.7"
  }
 },
 "nbformat": 4,
 "nbformat_minor": 5
}

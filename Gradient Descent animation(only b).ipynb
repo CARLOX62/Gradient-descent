{
 "cells": [
  {
   "cell_type": "code",
   "execution_count": 1,
   "id": "319f8f3b-d5ab-40ab-96d9-47205b71683f",
   "metadata": {},
   "outputs": [],
   "source": [
    "from sklearn.datasets import make_regression\n",
    "\n",
    "%matplotlib inline\n",
    "import numpy as np\n",
    "import matplotlib.pyplot as plt\n",
    "from matplotlib.animation import FuncAnimation, PillowWriter\n",
    "import matplotlib.animation as animation"
   ]
  },
  {
   "cell_type": "code",
   "execution_count": 2,
   "id": "14d76171-9f42-40ca-8266-31fd9c2d4250",
   "metadata": {},
   "outputs": [],
   "source": [
    "X, y = make_regression(n_samples = 100, n_features = 1, n_informative = 1, n_targets = 1, noise = 20, random_state = 13)"
   ]
  },
  {
   "cell_type": "code",
   "execution_count": 3,
   "id": "5980bbca-4bb1-46bc-8f47-c79bf38ef811",
   "metadata": {},
   "outputs": [
    {
     "data": {
      "text/plain": [
       "<matplotlib.collections.PathCollection at 0x225d9965c40>"
      ]
     },
     "execution_count": 3,
     "metadata": {},
     "output_type": "execute_result"
    }
   ],
   "source": [
    "plt.scatter(X,y)"
   ]
  },
  {
   "cell_type": "code",
   "execution_count": 4,
   "id": "13b46f9a-66fa-4144-8203-4a0293d8f4af",
   "metadata": {},
   "outputs": [
    {
     "name": "stdout",
     "output_type": "stream",
     "text": [
      "[27.82809103]\n",
      "-2.29474455867698\n"
     ]
    }
   ],
   "source": [
    "from sklearn.linear_model import LinearRegression\n",
    "reg = LinearRegression()\n",
    "reg.fit(X,y)\n",
    "print(reg.coef_)\n",
    "print(reg.intercept_)"
   ]
  },
  {
   "cell_type": "code",
   "execution_count": 5,
   "id": "8f66da30-2903-45b9-83ca-7517fb09d219",
   "metadata": {},
   "outputs": [
    {
     "data": {
      "text/plain": [
       "<matplotlib.collections.PathCollection at 0x225d9c80830>"
      ]
     },
     "execution_count": 5,
     "metadata": {},
     "output_type": "execute_result"
    }
   ],
   "source": [
    "b = -150\n",
    "m = 27.82\n",
    "lr = 0.001\n",
    "all_b = []\n",
    "all_cost = []\n",
    "\n",
    "epochs = 30\n",
    "\n",
    "for i in range(epochs):\n",
    "    slope = 0\n",
    "    cost = 0\n",
    "    for j in range(X.shape[0]):\n",
    "        slope = slope - 2*(y[j] - (m * X[j]) -  b)\n",
    "        cost = cost + (y[j] - m * X[j] -b) ** 2\n",
    "\n",
    "    b = b - (lr * slope)\n",
    "    all_b.append(b)\n",
    "    all_cost.append(cost)\n",
    "    y_pred = m * X + b\n",
    "    plt.plot(X,y_pred)\n",
    "plt.scatter(X,y)"
   ]
  },
  {
   "cell_type": "code",
   "execution_count": 6,
   "id": "ff599e0d-74ea-404e-bac6-50e360da232b",
   "metadata": {
    "scrolled": true
   },
   "outputs": [
    {
     "data": {
      "text/plain": [
       "[array([-120.4588544]),\n",
       " array([-96.82593791]),\n",
       " array([-77.91960473]),\n",
       " array([-62.79453818]),\n",
       " array([-50.69448494]),\n",
       " array([-41.01444235]),\n",
       " array([-33.27040827]),\n",
       " array([-27.07518102]),\n",
       " array([-22.11899921]),\n",
       " array([-18.15405376]),\n",
       " array([-14.98209741]),\n",
       " array([-12.44453232]),\n",
       " array([-10.41448025]),\n",
       " array([-8.7904386]),\n",
       " array([-7.49120528]),\n",
       " array([-6.45181862]),\n",
       " array([-5.62030929]),\n",
       " array([-4.95510183]),\n",
       " array([-4.42293586]),\n",
       " array([-3.99720308]),\n",
       " array([-3.65661686]),\n",
       " array([-3.38414789]),\n",
       " array([-3.16617271]),\n",
       " array([-2.99179256]),\n",
       " array([-2.85228845]),\n",
       " array([-2.74068515]),\n",
       " array([-2.65140252]),\n",
       " array([-2.57997641]),\n",
       " array([-2.52283553]),\n",
       " array([-2.47712282])]"
      ]
     },
     "execution_count": 6,
     "metadata": {},
     "output_type": "execute_result"
    }
   ],
   "source": [
    "all_b"
   ]
  },
  {
   "cell_type": "code",
   "execution_count": 7,
   "id": "66163af5-e202-4c5b-82c7-2ba8464a75bc",
   "metadata": {},
   "outputs": [
    {
     "data": {
      "text/plain": [
       "array([2210040.49020261, 1424629.13499295,  921965.86765877,\n",
       "        600261.37656489,  394370.50226481,  262600.34271276,\n",
       "        178267.44059944,  124294.38324692,   89751.62654131,\n",
       "         67644.26224972,   53495.5491031 ,   44440.37268926,\n",
       "         38645.05978441,   34936.0595253 ,   32562.29935947,\n",
       "         31043.09285334,   30070.80068942,   29448.5337045 ,\n",
       "         29050.28283416,   28795.40227714,   28632.27872065,\n",
       "         28527.87964449,   28461.06423575,   28418.30237416,\n",
       "         28390.93478274,   28373.41952423,   28362.20975879,\n",
       "         28355.0355089 ,   28350.44398898,   28347.50541622])"
      ]
     },
     "execution_count": 7,
     "metadata": {},
     "output_type": "execute_result"
    }
   ],
   "source": [
    "all_cost = np.array(all_cost).ravel()\n",
    "all_cost"
   ]
  },
  {
   "cell_type": "code",
   "execution_count": 8,
   "id": "fa35b9c3-103a-4bb9-abe6-7eb1ed9c10f8",
   "metadata": {},
   "outputs": [],
   "source": [
    "fig, ax = plt.subplots(figsize=(9,5))\n",
    "fig.set_tight_layout(True)\n",
    "\n",
    "x_i = np.arange(-3, 3, 0.1)\n",
    "y_i = x_i*m -150\n",
    "ax.scatter(X, y)\n",
    "line, = ax.plot(x_i, x_i*50 - 4, 'r-', linewidth=2)\n",
    "\n",
    "def update(i):\n",
    "    label = 'epoch {0}'.format(i + 1)\n",
    "    line.set_ydata(x_i*m + all_b[i])\n",
    "    ax.set_xlabel(label)\n",
    "    return line, ax\n",
    "\n",
    "anim = FuncAnimation(fig, update, repeat=True, frames=epochs, interval=500)\n",
    "\n",
    "f = r\"animation.gif\" \n",
    "writergif = animation.PillowWriter(fps=2) \n",
    "anim.save(f, writer=writergif)"
   ]
  },
  {
   "cell_type": "code",
   "execution_count": 9,
   "id": "f59b50eb-64c2-4751-ab45-e48450089dd4",
   "metadata": {},
   "outputs": [],
   "source": [
    "# creating a blank window \n",
    "# for the animation \n",
    "num_epochs = list(range(0,30))\n",
    "fig = plt.figure(figsize=(9,5)) \n",
    "axis = plt.axes(xlim =(0, 31), ylim =(0, 2500000)) \n",
    "  \n",
    "line, = axis.plot([], [], lw = 2) \n",
    "  \n",
    "xdata, ydata = [], [] \n",
    "  \n",
    "# animation function \n",
    "def animate(i): \n",
    "    label = 'epoch {0}'.format(i + 1)\n",
    "    xdata.append(num_epochs[i]) \n",
    "    ydata.append(all_cost[i]) \n",
    "    line.set_data(xdata, ydata) \n",
    "    axis.set_xlabel(label)\n",
    "      \n",
    "    return line, \n",
    "  \n",
    "# calling the animation function     \n",
    "anim = animation.FuncAnimation(fig, animate, frames = 30,repeat=False, interval = 500)\n",
    "\n",
    "f = r\"animation1.gif\" \n",
    "writergif = animation.PillowWriter(fps=2) \n",
    "anim.save(f, writer=writergif)"
   ]
  },
  {
   "cell_type": "code",
   "execution_count": 10,
   "id": "09950e83-d832-4b53-abca-d4cddedc04f2",
   "metadata": {},
   "outputs": [],
   "source": [
    "num_epochs = list(range(0,30))\n",
    "fig = plt.figure(figsize=(9,5)) \n",
    "axis = plt.axes(xlim =(0, 31), ylim =(-150, 0)) \n",
    "  \n",
    "line, = axis.plot([], [], lw = 2) \n",
    "  \n",
    "xdata, ydata = [], [] \n",
    "  \n",
    "# animation function \n",
    "def animate(i): \n",
    "    label = 'epoch {0}'.format(i + 1)\n",
    "    xdata.append(num_epochs[i]) \n",
    "    ydata.append(all_b[i]) \n",
    "    line.set_data(xdata, ydata) \n",
    "    axis.set_xlabel(label)\n",
    "      \n",
    "    return line, \n",
    "  \n",
    "# calling the animation function     \n",
    "anim = animation.FuncAnimation(fig, animate, frames = 30,repeat=False, interval = 500)\n",
    "\n",
    "f = r\"animation2.gif\" \n",
    "writergif = animation.PillowWriter(fps=2) \n",
    "anim.save(f, writer=writergif)"
   ]
  },
  {
   "cell_type": "code",
   "execution_count": null,
   "id": "e8014ea5-f284-40cc-a049-64744d0f71a5",
   "metadata": {
    "scrolled": true
   },
   "outputs": [],
   "source": [
    "import matplotlib.pyplot as plt\n",
    "import matplotlib.animation\n",
    "import numpy as np\n",
    "\n",
    "fig, ax = plt.subplots()\n",
    "ax.plot(all_b, all_cost)\n",
    "x, y = [],[]\n",
    "sc = ax.scatter(x,y,color='red',marker='+')\n",
    "plt.xlim(-150,50)\n",
    "plt.ylim(0,2500000)\n",
    "\n",
    "def animate(i):\n",
    "    label = 'epoch {0}'.format(i + 1)\n",
    "    x.append(all_b[i])\n",
    "    y.append(all_cost[i])\n",
    "    sc.set_offsets(np.c_[x,y])\n",
    "    ax.set_xlabel(label)\n",
    "\n",
    "ani = matplotlib.animation.FuncAnimation(fig, animate, \n",
    "                frames=30, interval=500, repeat=True) \n",
    "plt.show()\n",
    "\n",
    "f = r\"animation3.gif\" \n",
    "writergif = animation.PillowWriter(fps=2) \n",
    "ani.save(f, writer=writergif)"
   ]
  },
  {
   "cell_type": "code",
   "execution_count": null,
   "id": "3b41c16c-6ed1-42ad-be36-bfd0b8039bf3",
   "metadata": {},
   "outputs": [],
   "source": [
    "b_input = np.linspace(-150,150,100)"
   ]
  },
  {
   "cell_type": "code",
   "execution_count": null,
   "id": "cd535a04-b109-4aa1-b179-f1ef1b652da2",
   "metadata": {},
   "outputs": [],
   "source": [
    "cost_input = []\n",
    "\n",
    "for i in range(len(b_input)):\n",
    "    this_cost = 0 \n",
    "    for j in range(X.shape[0]):\n",
    "        this_cost = this_cost + (y[j] - m*X[j] - b_input[i])**2\n",
    "    cost_input.append(this_cost)\n",
    "    print(this_cost)\n",
    "        "
   ]
  },
  {
   "cell_type": "code",
   "execution_count": null,
   "id": "e4909f3a-f7e7-42ce-8e19-30554b5bf794",
   "metadata": {},
   "outputs": [],
   "source": [
    "X.shape"
   ]
  },
  {
   "cell_type": "code",
   "execution_count": null,
   "id": "1a654408-3b05-4177-b271-c45cf96ba1f1",
   "metadata": {},
   "outputs": [],
   "source": [
    "len(y)"
   ]
  },
  {
   "cell_type": "code",
   "execution_count": null,
   "id": "57c9a8f1-68f6-4697-bc3d-86104455b6b7",
   "metadata": {},
   "outputs": [],
   "source": []
  }
 ],
 "metadata": {
  "kernelspec": {
   "display_name": "Python 3 (ipykernel)",
   "language": "python",
   "name": "python3"
  },
  "language_info": {
   "codemirror_mode": {
    "name": "ipython",
    "version": 3
   },
   "file_extension": ".py",
   "mimetype": "text/x-python",
   "name": "python",
   "nbconvert_exporter": "python",
   "pygments_lexer": "ipython3",
   "version": "3.12.7"
  }
 },
 "nbformat": 4,
 "nbformat_minor": 5
}
